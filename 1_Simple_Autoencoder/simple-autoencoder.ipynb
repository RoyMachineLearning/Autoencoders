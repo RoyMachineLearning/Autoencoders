{
 "cells": [
  {
   "cell_type": "code",
   "execution_count": 1,
   "metadata": {
    "_cell_guid": "b1076dfc-b9ad-4769-8c92-a6c4dae69d19",
    "_uuid": "8f2839f25d086af736a60e9eeb907d3b93b6e0e5"
   },
   "outputs": [],
   "source": [
    "import warnings\n",
    "warnings.filterwarnings('ignore')"
   ]
  },
  {
   "cell_type": "code",
   "execution_count": 2,
   "metadata": {
    "_cell_guid": "79c7e3d0-c299-4dcb-8224-4455121ee9b0",
    "_uuid": "d629ff2d2480ee46fbb7e2d37f6b5fab8052498a"
   },
   "outputs": [
    {
     "name": "stderr",
     "output_type": "stream",
     "text": [
      "Using TensorFlow backend.\n"
     ]
    }
   ],
   "source": [
    "import numpy as np\n",
    "import matplotlib.pyplot as plt\n",
    "from tensorflow.keras.datasets import mnist\n",
    "from tensorflow.keras.layers import Input, Dense\n",
    "from tensorflow.keras.models import Model\n",
    "from keras.utils.vis_utils import model_to_dot\n",
    "from IPython.display import SVG\n",
    "from tqdm import tqdm\n",
    "from random import randint"
   ]
  },
  {
   "cell_type": "code",
   "execution_count": 3,
   "metadata": {},
   "outputs": [],
   "source": [
    "IMAGE_WIDTH = 28\n",
    "IMAGE_HEIGHT = 28\n",
    "IMAGE_CHANNELS = 1\n",
    "ENCODING_DIMENSION = 32\n",
    "BATCH_SIZE = 256\n",
    "EPOCHS = 50"
   ]
  },
  {
   "cell_type": "code",
   "execution_count": 4,
   "metadata": {},
   "outputs": [],
   "source": [
    "def load_data():\n",
    "    (x_train, _), (x_test, _) = mnist.load_data()\n",
    "    x_train = x_train / 255.\n",
    "    x_train = x_train.reshape((x_train.shape[0], np.prod(x_train.shape[1:])))\n",
    "    x_test = x_test / 255.\n",
    "    x_test = x_test.reshape((x_test.shape[0], np.prod(x_test.shape[1:])))\n",
    "    return x_train, x_test"
   ]
  },
  {
   "cell_type": "code",
   "execution_count": 5,
   "metadata": {},
   "outputs": [
    {
     "name": "stdout",
     "output_type": "stream",
     "text": [
      "Downloading data from https://storage.googleapis.com/tensorflow/tf-keras-datasets/mnist.npz\n",
      "11493376/11490434 [==============================] - 0s 0us/step\n"
     ]
    },
    {
     "data": {
      "text/plain": [
       "((60000, 784), (10000, 784))"
      ]
     },
     "execution_count": 5,
     "metadata": {},
     "output_type": "execute_result"
    }
   ],
   "source": [
    "x_train, x_test = load_data()\n",
    "x_train.shape, x_test.shape"
   ]
  },
  {
   "cell_type": "code",
   "execution_count": 6,
   "metadata": {},
   "outputs": [],
   "source": [
    "def build_autoencoder(image_width, image_height, encoding_dimension):\n",
    "    image_shape = image_width * image_height\n",
    "    input_placeholder = Input(shape = (image_shape, ))\n",
    "    encoded = Dense(encoding_dimension, activation = 'relu', name = 'Encoded')(input_placeholder)\n",
    "    decoded = Dense(image_shape, activation = 'sigmoid', name = 'Decoded')(encoded)\n",
    "    autoencoder = Model(input_placeholder, decoded, name = 'Autoencoder')\n",
    "    encoder = Model(input_placeholder, encoded, name = 'Encoder')\n",
    "    encoded_input = Input(shape = (encoding_dimension, ))\n",
    "    decoder_layer = autoencoder.layers[-1]\n",
    "    decoder = Model(encoded_input, decoder_layer(encoded_input), name = 'Encoder')\n",
    "    autoencoder.compile(optimizer = 'adadelta', loss = 'binary_crossentropy')\n",
    "    return encoder, decoder, autoencoder"
   ]
  },
  {
   "cell_type": "code",
   "execution_count": 7,
   "metadata": {},
   "outputs": [
    {
     "name": "stdout",
     "output_type": "stream",
     "text": [
      "WARNING:tensorflow:From /opt/conda/lib/python3.6/site-packages/tensorflow/python/ops/resource_variable_ops.py:435: colocate_with (from tensorflow.python.framework.ops) is deprecated and will be removed in a future version.\n",
      "Instructions for updating:\n",
      "Colocations handled automatically by placer.\n"
     ]
    }
   ],
   "source": [
    "encoder, decoder, autoencoder = build_autoencoder(IMAGE_WIDTH, IMAGE_HEIGHT, ENCODING_DIMENSION)"
   ]
  },
  {
   "cell_type": "code",
   "execution_count": 8,
   "metadata": {},
   "outputs": [
    {
     "name": "stdout",
     "output_type": "stream",
     "text": [
      "_________________________________________________________________\n",
      "Layer (type)                 Output Shape              Param #   \n",
      "=================================================================\n",
      "input_1 (InputLayer)         (None, 784)               0         \n",
      "_________________________________________________________________\n",
      "Encoded (Dense)              (None, 32)                25120     \n",
      "=================================================================\n",
      "Total params: 25,120\n",
      "Trainable params: 25,120\n",
      "Non-trainable params: 0\n",
      "_________________________________________________________________\n"
     ]
    }
   ],
   "source": [
    "encoder.summary()"
   ]
  },
  {
   "cell_type": "code",
   "execution_count": 9,
   "metadata": {},
   "outputs": [
    {
     "data": {
      "image/svg+xml": [
       "<svg height=\"138pt\" viewBox=\"0.00 0.00 271.00 138.00\" width=\"271pt\" xmlns=\"http://www.w3.org/2000/svg\" xmlns:xlink=\"http://www.w3.org/1999/xlink\">\n",
       "<g class=\"graph\" id=\"graph0\" transform=\"scale(1 1) rotate(0) translate(4 134)\">\n",
       "<title>G</title>\n",
       "<polygon fill=\"white\" points=\"-4,4 -4,-134 267,-134 267,4 -4,4\" stroke=\"none\"/>\n",
       "<!-- 140360574805720 -->\n",
       "<g class=\"node\" id=\"node1\"><title>140360574805720</title>\n",
       "<polygon fill=\"none\" points=\"0,-83.5 0,-129.5 263,-129.5 263,-83.5 0,-83.5\" stroke=\"black\"/>\n",
       "<text font-family=\"Times,serif\" font-size=\"14.00\" text-anchor=\"middle\" x=\"62.5\" y=\"-102.8\">input_1: InputLayer</text>\n",
       "<polyline fill=\"none\" points=\"125,-83.5 125,-129.5 \" stroke=\"black\"/>\n",
       "<text font-family=\"Times,serif\" font-size=\"14.00\" text-anchor=\"middle\" x=\"152.5\" y=\"-114.3\">input:</text>\n",
       "<polyline fill=\"none\" points=\"125,-106.5 180,-106.5 \" stroke=\"black\"/>\n",
       "<text font-family=\"Times,serif\" font-size=\"14.00\" text-anchor=\"middle\" x=\"152.5\" y=\"-91.3\">output:</text>\n",
       "<polyline fill=\"none\" points=\"180,-83.5 180,-129.5 \" stroke=\"black\"/>\n",
       "<text font-family=\"Times,serif\" font-size=\"14.00\" text-anchor=\"middle\" x=\"221.5\" y=\"-114.3\">(None, 784)</text>\n",
       "<polyline fill=\"none\" points=\"180,-106.5 263,-106.5 \" stroke=\"black\"/>\n",
       "<text font-family=\"Times,serif\" font-size=\"14.00\" text-anchor=\"middle\" x=\"221.5\" y=\"-91.3\">(None, 784)</text>\n",
       "</g>\n",
       "<!-- 140360574806896 -->\n",
       "<g class=\"node\" id=\"node2\"><title>140360574806896</title>\n",
       "<polygon fill=\"none\" points=\"10,-0.5 10,-46.5 253,-46.5 253,-0.5 10,-0.5\" stroke=\"black\"/>\n",
       "<text font-family=\"Times,serif\" font-size=\"14.00\" text-anchor=\"middle\" x=\"62.5\" y=\"-19.8\">Encoded: Dense</text>\n",
       "<polyline fill=\"none\" points=\"115,-0.5 115,-46.5 \" stroke=\"black\"/>\n",
       "<text font-family=\"Times,serif\" font-size=\"14.00\" text-anchor=\"middle\" x=\"142.5\" y=\"-31.3\">input:</text>\n",
       "<polyline fill=\"none\" points=\"115,-23.5 170,-23.5 \" stroke=\"black\"/>\n",
       "<text font-family=\"Times,serif\" font-size=\"14.00\" text-anchor=\"middle\" x=\"142.5\" y=\"-8.3\">output:</text>\n",
       "<polyline fill=\"none\" points=\"170,-0.5 170,-46.5 \" stroke=\"black\"/>\n",
       "<text font-family=\"Times,serif\" font-size=\"14.00\" text-anchor=\"middle\" x=\"211.5\" y=\"-31.3\">(None, 784)</text>\n",
       "<polyline fill=\"none\" points=\"170,-23.5 253,-23.5 \" stroke=\"black\"/>\n",
       "<text font-family=\"Times,serif\" font-size=\"14.00\" text-anchor=\"middle\" x=\"211.5\" y=\"-8.3\">(None, 32)</text>\n",
       "</g>\n",
       "<!-- 140360574805720&#45;&gt;140360574806896 -->\n",
       "<g class=\"edge\" id=\"edge1\"><title>140360574805720-&gt;140360574806896</title>\n",
       "<path d=\"M131.5,-83.3664C131.5,-75.1516 131.5,-65.6579 131.5,-56.7252\" fill=\"none\" stroke=\"black\"/>\n",
       "<polygon fill=\"black\" points=\"135,-56.6068 131.5,-46.6068 128,-56.6069 135,-56.6068\" stroke=\"black\"/>\n",
       "</g>\n",
       "</g>\n",
       "</svg>"
      ],
      "text/plain": [
       "<IPython.core.display.SVG object>"
      ]
     },
     "execution_count": 9,
     "metadata": {},
     "output_type": "execute_result"
    }
   ],
   "source": [
    "SVG(model_to_dot(encoder, show_shapes = True, show_layer_names = True).create(prog = 'dot', format = 'svg'))"
   ]
  },
  {
   "cell_type": "code",
   "execution_count": 10,
   "metadata": {},
   "outputs": [
    {
     "name": "stdout",
     "output_type": "stream",
     "text": [
      "_________________________________________________________________\n",
      "Layer (type)                 Output Shape              Param #   \n",
      "=================================================================\n",
      "input_2 (InputLayer)         (None, 32)                0         \n",
      "_________________________________________________________________\n",
      "Decoded (Dense)              (None, 784)               25872     \n",
      "=================================================================\n",
      "Total params: 25,872\n",
      "Trainable params: 25,872\n",
      "Non-trainable params: 0\n",
      "_________________________________________________________________\n"
     ]
    }
   ],
   "source": [
    "decoder.summary()"
   ]
  },
  {
   "cell_type": "code",
   "execution_count": 11,
   "metadata": {},
   "outputs": [
    {
     "data": {
      "image/svg+xml": [
       "<svg height=\"138pt\" viewBox=\"0.00 0.00 264.00 138.00\" width=\"264pt\" xmlns=\"http://www.w3.org/2000/svg\" xmlns:xlink=\"http://www.w3.org/1999/xlink\">\n",
       "<g class=\"graph\" id=\"graph0\" transform=\"scale(1 1) rotate(0) translate(4 134)\">\n",
       "<title>G</title>\n",
       "<polygon fill=\"white\" points=\"-4,4 -4,-134 260,-134 260,4 -4,4\" stroke=\"none\"/>\n",
       "<!-- 140360559869904 -->\n",
       "<g class=\"node\" id=\"node1\"><title>140360559869904</title>\n",
       "<polygon fill=\"none\" points=\"0,-83.5 0,-129.5 256,-129.5 256,-83.5 0,-83.5\" stroke=\"black\"/>\n",
       "<text font-family=\"Times,serif\" font-size=\"14.00\" text-anchor=\"middle\" x=\"62.5\" y=\"-102.8\">input_2: InputLayer</text>\n",
       "<polyline fill=\"none\" points=\"125,-83.5 125,-129.5 \" stroke=\"black\"/>\n",
       "<text font-family=\"Times,serif\" font-size=\"14.00\" text-anchor=\"middle\" x=\"152.5\" y=\"-114.3\">input:</text>\n",
       "<polyline fill=\"none\" points=\"125,-106.5 180,-106.5 \" stroke=\"black\"/>\n",
       "<text font-family=\"Times,serif\" font-size=\"14.00\" text-anchor=\"middle\" x=\"152.5\" y=\"-91.3\">output:</text>\n",
       "<polyline fill=\"none\" points=\"180,-83.5 180,-129.5 \" stroke=\"black\"/>\n",
       "<text font-family=\"Times,serif\" font-size=\"14.00\" text-anchor=\"middle\" x=\"218\" y=\"-114.3\">(None, 32)</text>\n",
       "<polyline fill=\"none\" points=\"180,-106.5 256,-106.5 \" stroke=\"black\"/>\n",
       "<text font-family=\"Times,serif\" font-size=\"14.00\" text-anchor=\"middle\" x=\"218\" y=\"-91.3\">(None, 32)</text>\n",
       "</g>\n",
       "<!-- 140362763615200 -->\n",
       "<g class=\"node\" id=\"node2\"><title>140362763615200</title>\n",
       "<polygon fill=\"none\" points=\"6,-0.5 6,-46.5 250,-46.5 250,-0.5 6,-0.5\" stroke=\"black\"/>\n",
       "<text font-family=\"Times,serif\" font-size=\"14.00\" text-anchor=\"middle\" x=\"59\" y=\"-19.8\">Decoded: Dense</text>\n",
       "<polyline fill=\"none\" points=\"112,-0.5 112,-46.5 \" stroke=\"black\"/>\n",
       "<text font-family=\"Times,serif\" font-size=\"14.00\" text-anchor=\"middle\" x=\"139.5\" y=\"-31.3\">input:</text>\n",
       "<polyline fill=\"none\" points=\"112,-23.5 167,-23.5 \" stroke=\"black\"/>\n",
       "<text font-family=\"Times,serif\" font-size=\"14.00\" text-anchor=\"middle\" x=\"139.5\" y=\"-8.3\">output:</text>\n",
       "<polyline fill=\"none\" points=\"167,-0.5 167,-46.5 \" stroke=\"black\"/>\n",
       "<text font-family=\"Times,serif\" font-size=\"14.00\" text-anchor=\"middle\" x=\"208.5\" y=\"-31.3\">(None, 32)</text>\n",
       "<polyline fill=\"none\" points=\"167,-23.5 250,-23.5 \" stroke=\"black\"/>\n",
       "<text font-family=\"Times,serif\" font-size=\"14.00\" text-anchor=\"middle\" x=\"208.5\" y=\"-8.3\">(None, 784)</text>\n",
       "</g>\n",
       "<!-- 140360559869904&#45;&gt;140362763615200 -->\n",
       "<g class=\"edge\" id=\"edge1\"><title>140360559869904-&gt;140362763615200</title>\n",
       "<path d=\"M128,-83.3664C128,-75.1516 128,-65.6579 128,-56.7252\" fill=\"none\" stroke=\"black\"/>\n",
       "<polygon fill=\"black\" points=\"131.5,-56.6068 128,-46.6068 124.5,-56.6069 131.5,-56.6068\" stroke=\"black\"/>\n",
       "</g>\n",
       "</g>\n",
       "</svg>"
      ],
      "text/plain": [
       "<IPython.core.display.SVG object>"
      ]
     },
     "execution_count": 11,
     "metadata": {},
     "output_type": "execute_result"
    }
   ],
   "source": [
    "SVG(model_to_dot(decoder, show_shapes = True, show_layer_names = True).create(prog = 'dot', format = 'svg'))"
   ]
  },
  {
   "cell_type": "code",
   "execution_count": 12,
   "metadata": {},
   "outputs": [
    {
     "name": "stdout",
     "output_type": "stream",
     "text": [
      "_________________________________________________________________\n",
      "Layer (type)                 Output Shape              Param #   \n",
      "=================================================================\n",
      "input_1 (InputLayer)         (None, 784)               0         \n",
      "_________________________________________________________________\n",
      "Encoded (Dense)              (None, 32)                25120     \n",
      "_________________________________________________________________\n",
      "Decoded (Dense)              (None, 784)               25872     \n",
      "=================================================================\n",
      "Total params: 50,992\n",
      "Trainable params: 50,992\n",
      "Non-trainable params: 0\n",
      "_________________________________________________________________\n"
     ]
    }
   ],
   "source": [
    "autoencoder.summary()"
   ]
  },
  {
   "cell_type": "code",
   "execution_count": 13,
   "metadata": {},
   "outputs": [
    {
     "data": {
      "image/svg+xml": [
       "<svg height=\"221pt\" viewBox=\"0.00 0.00 271.00 221.00\" width=\"271pt\" xmlns=\"http://www.w3.org/2000/svg\" xmlns:xlink=\"http://www.w3.org/1999/xlink\">\n",
       "<g class=\"graph\" id=\"graph0\" transform=\"scale(1 1) rotate(0) translate(4 217)\">\n",
       "<title>G</title>\n",
       "<polygon fill=\"white\" points=\"-4,4 -4,-217 267,-217 267,4 -4,4\" stroke=\"none\"/>\n",
       "<!-- 140360574805720 -->\n",
       "<g class=\"node\" id=\"node1\"><title>140360574805720</title>\n",
       "<polygon fill=\"none\" points=\"0,-166.5 0,-212.5 263,-212.5 263,-166.5 0,-166.5\" stroke=\"black\"/>\n",
       "<text font-family=\"Times,serif\" font-size=\"14.00\" text-anchor=\"middle\" x=\"62.5\" y=\"-185.8\">input_1: InputLayer</text>\n",
       "<polyline fill=\"none\" points=\"125,-166.5 125,-212.5 \" stroke=\"black\"/>\n",
       "<text font-family=\"Times,serif\" font-size=\"14.00\" text-anchor=\"middle\" x=\"152.5\" y=\"-197.3\">input:</text>\n",
       "<polyline fill=\"none\" points=\"125,-189.5 180,-189.5 \" stroke=\"black\"/>\n",
       "<text font-family=\"Times,serif\" font-size=\"14.00\" text-anchor=\"middle\" x=\"152.5\" y=\"-174.3\">output:</text>\n",
       "<polyline fill=\"none\" points=\"180,-166.5 180,-212.5 \" stroke=\"black\"/>\n",
       "<text font-family=\"Times,serif\" font-size=\"14.00\" text-anchor=\"middle\" x=\"221.5\" y=\"-197.3\">(None, 784)</text>\n",
       "<polyline fill=\"none\" points=\"180,-189.5 263,-189.5 \" stroke=\"black\"/>\n",
       "<text font-family=\"Times,serif\" font-size=\"14.00\" text-anchor=\"middle\" x=\"221.5\" y=\"-174.3\">(None, 784)</text>\n",
       "</g>\n",
       "<!-- 140360574806896 -->\n",
       "<g class=\"node\" id=\"node2\"><title>140360574806896</title>\n",
       "<polygon fill=\"none\" points=\"10,-83.5 10,-129.5 253,-129.5 253,-83.5 10,-83.5\" stroke=\"black\"/>\n",
       "<text font-family=\"Times,serif\" font-size=\"14.00\" text-anchor=\"middle\" x=\"62.5\" y=\"-102.8\">Encoded: Dense</text>\n",
       "<polyline fill=\"none\" points=\"115,-83.5 115,-129.5 \" stroke=\"black\"/>\n",
       "<text font-family=\"Times,serif\" font-size=\"14.00\" text-anchor=\"middle\" x=\"142.5\" y=\"-114.3\">input:</text>\n",
       "<polyline fill=\"none\" points=\"115,-106.5 170,-106.5 \" stroke=\"black\"/>\n",
       "<text font-family=\"Times,serif\" font-size=\"14.00\" text-anchor=\"middle\" x=\"142.5\" y=\"-91.3\">output:</text>\n",
       "<polyline fill=\"none\" points=\"170,-83.5 170,-129.5 \" stroke=\"black\"/>\n",
       "<text font-family=\"Times,serif\" font-size=\"14.00\" text-anchor=\"middle\" x=\"211.5\" y=\"-114.3\">(None, 784)</text>\n",
       "<polyline fill=\"none\" points=\"170,-106.5 253,-106.5 \" stroke=\"black\"/>\n",
       "<text font-family=\"Times,serif\" font-size=\"14.00\" text-anchor=\"middle\" x=\"211.5\" y=\"-91.3\">(None, 32)</text>\n",
       "</g>\n",
       "<!-- 140360574805720&#45;&gt;140360574806896 -->\n",
       "<g class=\"edge\" id=\"edge1\"><title>140360574805720-&gt;140360574806896</title>\n",
       "<path d=\"M131.5,-166.366C131.5,-158.152 131.5,-148.658 131.5,-139.725\" fill=\"none\" stroke=\"black\"/>\n",
       "<polygon fill=\"black\" points=\"135,-139.607 131.5,-129.607 128,-139.607 135,-139.607\" stroke=\"black\"/>\n",
       "</g>\n",
       "<!-- 140362763615200 -->\n",
       "<g class=\"node\" id=\"node3\"><title>140362763615200</title>\n",
       "<polygon fill=\"none\" points=\"9.5,-0.5 9.5,-46.5 253.5,-46.5 253.5,-0.5 9.5,-0.5\" stroke=\"black\"/>\n",
       "<text font-family=\"Times,serif\" font-size=\"14.00\" text-anchor=\"middle\" x=\"62.5\" y=\"-19.8\">Decoded: Dense</text>\n",
       "<polyline fill=\"none\" points=\"115.5,-0.5 115.5,-46.5 \" stroke=\"black\"/>\n",
       "<text font-family=\"Times,serif\" font-size=\"14.00\" text-anchor=\"middle\" x=\"143\" y=\"-31.3\">input:</text>\n",
       "<polyline fill=\"none\" points=\"115.5,-23.5 170.5,-23.5 \" stroke=\"black\"/>\n",
       "<text font-family=\"Times,serif\" font-size=\"14.00\" text-anchor=\"middle\" x=\"143\" y=\"-8.3\">output:</text>\n",
       "<polyline fill=\"none\" points=\"170.5,-0.5 170.5,-46.5 \" stroke=\"black\"/>\n",
       "<text font-family=\"Times,serif\" font-size=\"14.00\" text-anchor=\"middle\" x=\"212\" y=\"-31.3\">(None, 32)</text>\n",
       "<polyline fill=\"none\" points=\"170.5,-23.5 253.5,-23.5 \" stroke=\"black\"/>\n",
       "<text font-family=\"Times,serif\" font-size=\"14.00\" text-anchor=\"middle\" x=\"212\" y=\"-8.3\">(None, 784)</text>\n",
       "</g>\n",
       "<!-- 140360574806896&#45;&gt;140362763615200 -->\n",
       "<g class=\"edge\" id=\"edge2\"><title>140360574806896-&gt;140362763615200</title>\n",
       "<path d=\"M131.5,-83.3664C131.5,-75.1516 131.5,-65.6579 131.5,-56.7252\" fill=\"none\" stroke=\"black\"/>\n",
       "<polygon fill=\"black\" points=\"135,-56.6068 131.5,-46.6068 128,-56.6069 135,-56.6068\" stroke=\"black\"/>\n",
       "</g>\n",
       "</g>\n",
       "</svg>"
      ],
      "text/plain": [
       "<IPython.core.display.SVG object>"
      ]
     },
     "execution_count": 13,
     "metadata": {},
     "output_type": "execute_result"
    }
   ],
   "source": [
    "SVG(model_to_dot(autoencoder, show_shapes = True, show_layer_names = True).create(prog = 'dot', format = 'svg'))"
   ]
  },
  {
   "cell_type": "code",
   "execution_count": 14,
   "metadata": {},
   "outputs": [
    {
     "name": "stdout",
     "output_type": "stream",
     "text": [
      "Train on 60000 samples, validate on 10000 samples\n",
      "WARNING:tensorflow:From /opt/conda/lib/python3.6/site-packages/tensorflow/python/ops/math_ops.py:3066: to_int32 (from tensorflow.python.ops.math_ops) is deprecated and will be removed in a future version.\n",
      "Instructions for updating:\n",
      "Use tf.cast instead.\n",
      "Epoch 1/50\n",
      "60000/60000 [==============================] - 4s 74us/sample - loss: 0.3654 - val_loss: 0.2716\n",
      "Epoch 2/50\n",
      "60000/60000 [==============================] - 1s 16us/sample - loss: 0.2649 - val_loss: 0.2550\n",
      "Epoch 3/50\n",
      "60000/60000 [==============================] - 1s 16us/sample - loss: 0.2448 - val_loss: 0.2327\n",
      "Epoch 4/50\n",
      "60000/60000 [==============================] - 1s 17us/sample - loss: 0.2245 - val_loss: 0.2143\n",
      "Epoch 5/50\n",
      "60000/60000 [==============================] - 1s 17us/sample - loss: 0.2089 - val_loss: 0.2012\n",
      "Epoch 6/50\n",
      "60000/60000 [==============================] - 1s 16us/sample - loss: 0.1977 - val_loss: 0.1918\n",
      "Epoch 7/50\n",
      "60000/60000 [==============================] - 1s 16us/sample - loss: 0.1894 - val_loss: 0.1846\n",
      "Epoch 8/50\n",
      "60000/60000 [==============================] - 1s 17us/sample - loss: 0.1828 - val_loss: 0.1785\n",
      "Epoch 9/50\n",
      "60000/60000 [==============================] - 1s 17us/sample - loss: 0.1771 - val_loss: 0.1731\n",
      "Epoch 10/50\n",
      "60000/60000 [==============================] - 1s 17us/sample - loss: 0.1721 - val_loss: 0.1683\n",
      "Epoch 11/50\n",
      "60000/60000 [==============================] - 1s 17us/sample - loss: 0.1676 - val_loss: 0.1641\n",
      "Epoch 12/50\n",
      "60000/60000 [==============================] - 1s 16us/sample - loss: 0.1636 - val_loss: 0.1602\n",
      "Epoch 13/50\n",
      "60000/60000 [==============================] - 1s 16us/sample - loss: 0.1599 - val_loss: 0.1567\n",
      "Epoch 14/50\n",
      "60000/60000 [==============================] - 1s 17us/sample - loss: 0.1563 - val_loss: 0.1531\n",
      "Epoch 15/50\n",
      "60000/60000 [==============================] - 1s 17us/sample - loss: 0.1530 - val_loss: 0.1497\n",
      "Epoch 16/50\n",
      "60000/60000 [==============================] - 1s 17us/sample - loss: 0.1497 - val_loss: 0.1466\n",
      "Epoch 17/50\n",
      "60000/60000 [==============================] - 1s 18us/sample - loss: 0.1467 - val_loss: 0.1436\n",
      "Epoch 18/50\n",
      "60000/60000 [==============================] - 1s 19us/sample - loss: 0.1438 - val_loss: 0.1409\n",
      "Epoch 19/50\n",
      "60000/60000 [==============================] - 1s 19us/sample - loss: 0.1412 - val_loss: 0.1382\n",
      "Epoch 20/50\n",
      "60000/60000 [==============================] - 1s 19us/sample - loss: 0.1387 - val_loss: 0.1359\n",
      "Epoch 21/50\n",
      "60000/60000 [==============================] - 1s 19us/sample - loss: 0.1364 - val_loss: 0.1337\n",
      "Epoch 22/50\n",
      "60000/60000 [==============================] - 1s 17us/sample - loss: 0.1343 - val_loss: 0.1316\n",
      "Epoch 23/50\n",
      "60000/60000 [==============================] - 1s 16us/sample - loss: 0.1323 - val_loss: 0.1297\n",
      "Epoch 24/50\n",
      "60000/60000 [==============================] - 1s 17us/sample - loss: 0.1304 - val_loss: 0.1278\n",
      "Epoch 25/50\n",
      "60000/60000 [==============================] - 1s 16us/sample - loss: 0.1286 - val_loss: 0.1260\n",
      "Epoch 26/50\n",
      "60000/60000 [==============================] - 1s 17us/sample - loss: 0.1269 - val_loss: 0.1244\n",
      "Epoch 27/50\n",
      "60000/60000 [==============================] - 1s 16us/sample - loss: 0.1253 - val_loss: 0.1228\n",
      "Epoch 28/50\n",
      "60000/60000 [==============================] - 1s 16us/sample - loss: 0.1238 - val_loss: 0.1213\n",
      "Epoch 29/50\n",
      "60000/60000 [==============================] - 1s 16us/sample - loss: 0.1224 - val_loss: 0.1200\n",
      "Epoch 30/50\n",
      "60000/60000 [==============================] - 1s 16us/sample - loss: 0.1211 - val_loss: 0.1187\n",
      "Epoch 31/50\n",
      "60000/60000 [==============================] - 1s 17us/sample - loss: 0.1199 - val_loss: 0.1175\n",
      "Epoch 32/50\n",
      "60000/60000 [==============================] - 1s 17us/sample - loss: 0.1187 - val_loss: 0.1164\n",
      "Epoch 33/50\n",
      "60000/60000 [==============================] - 1s 16us/sample - loss: 0.1177 - val_loss: 0.1154\n",
      "Epoch 34/50\n",
      "60000/60000 [==============================] - 1s 16us/sample - loss: 0.1167 - val_loss: 0.1144\n",
      "Epoch 35/50\n",
      "60000/60000 [==============================] - 1s 16us/sample - loss: 0.1157 - val_loss: 0.1135\n",
      "Epoch 36/50\n",
      "60000/60000 [==============================] - 1s 17us/sample - loss: 0.1149 - val_loss: 0.1127\n",
      "Epoch 37/50\n",
      "60000/60000 [==============================] - 1s 17us/sample - loss: 0.1141 - val_loss: 0.1119\n",
      "Epoch 38/50\n",
      "60000/60000 [==============================] - 1s 17us/sample - loss: 0.1133 - val_loss: 0.1111\n",
      "Epoch 39/50\n",
      "60000/60000 [==============================] - 1s 17us/sample - loss: 0.1126 - val_loss: 0.1104\n",
      "Epoch 40/50\n",
      "60000/60000 [==============================] - 1s 17us/sample - loss: 0.1119 - val_loss: 0.1098\n",
      "Epoch 41/50\n",
      "60000/60000 [==============================] - 1s 17us/sample - loss: 0.1112 - val_loss: 0.1092\n",
      "Epoch 42/50\n",
      "60000/60000 [==============================] - 1s 17us/sample - loss: 0.1106 - val_loss: 0.1086\n",
      "Epoch 43/50\n",
      "60000/60000 [==============================] - 1s 17us/sample - loss: 0.1100 - val_loss: 0.1080\n",
      "Epoch 44/50\n",
      "60000/60000 [==============================] - 1s 16us/sample - loss: 0.1094 - val_loss: 0.1074\n",
      "Epoch 45/50\n",
      "60000/60000 [==============================] - 1s 17us/sample - loss: 0.1089 - val_loss: 0.1069\n",
      "Epoch 46/50\n",
      "60000/60000 [==============================] - 1s 17us/sample - loss: 0.1084 - val_loss: 0.1064\n",
      "Epoch 47/50\n",
      "60000/60000 [==============================] - 1s 16us/sample - loss: 0.1079 - val_loss: 0.1060\n",
      "Epoch 48/50\n",
      "60000/60000 [==============================] - 1s 16us/sample - loss: 0.1075 - val_loss: 0.1056\n",
      "Epoch 49/50\n",
      "60000/60000 [==============================] - 1s 17us/sample - loss: 0.1071 - val_loss: 0.1052\n",
      "Epoch 50/50\n",
      "60000/60000 [==============================] - 1s 17us/sample - loss: 0.1067 - val_loss: 0.1048\n"
     ]
    }
   ],
   "source": [
    "history = autoencoder.fit(x_train, x_train, epochs = EPOCHS, batch_size = BATCH_SIZE, shuffle = True, validation_data = (x_test, x_test))"
   ]
  },
  {
   "cell_type": "code",
   "execution_count": 15,
   "metadata": {},
   "outputs": [
    {
     "data": {
      "image/png": "[encoded data removed]",
      "text/plain": [
       "<Figure size 432x288 with 1 Axes>"
      ]
     },
     "metadata": {},
     "output_type": "display_data"
    }
   ],
   "source": [
    "plt.plot(history.history['loss'], color = 'b')\n",
    "plt.plot(history.history['val_loss'], color = 'r')\n",
    "plt.title('Loss History')\n",
    "plt.show()"
   ]
  },
  {
   "cell_type": "code",
   "execution_count": 16,
   "metadata": {},
   "outputs": [],
   "source": [
    "def plot_images(nrows, figsize, image_width, image_height, encoder, decoder):\n",
    "    ncols = 3\n",
    "    fig, axes = plt.subplots(nrows = nrows, ncols = ncols, figsize = figsize)\n",
    "    plt.setp(axes.flat, xticks = [], yticks = [])\n",
    "    index = randint(0, len(x_test) - 1)\n",
    "    encoded_image = None\n",
    "    for i, ax in enumerate(axes.flat):\n",
    "        if i % 3 == 0:\n",
    "            index = randint(0, len(x_test) - 1)\n",
    "            ax.imshow(x_test[index].reshape(image_width, image_height), cmap = 'gray')\n",
    "            ax.set_xlabel('Test_Image_' + str(index))\n",
    "        elif i % 3 == 1:\n",
    "            encoded_image = encoder.predict(x_test[index].reshape(1, image_width * image_height))\n",
    "            ax.imshow(encoded_image.reshape(8, 4), cmap = 'gray')\n",
    "            ax.set_xlabel('Encoded_Image_' + str(index))\n",
    "        elif i % 3 == 2:\n",
    "            ax.imshow(decoder.predict(encoded_image).reshape(image_width, image_height), cmap = 'gray')\n",
    "            ax.set_xlabel('Decoded_Image_' + str(index))\n",
    "    plt.show()"
   ]
  },
  {
   "cell_type": "code",
   "execution_count": 17,
   "metadata": {},
   "outputs": [
    {
     "data": {
      "image/png": "[encoded data removed]",
      "text/plain": [
       "<Figure size 1152x1152 with 18 Axes>"
      ]
     },
     "metadata": {},
     "output_type": "display_data"
    }
   ],
   "source": [
    "plot_images(6, (16, 16), IMAGE_WIDTH, IMAGE_HEIGHT, encoder, decoder)"
   ]
  },
  {
   "cell_type": "code",
   "execution_count": 18,
   "metadata": {},
   "outputs": [],
   "source": [
    "encoder.save('./encoder.h5')\n",
    "decoder.save('./decoder.h5')"
   ]
  }
 ],
 "metadata": {
  "kernelspec": {
   "display_name": "Python 3",
   "language": "python",
   "name": "python3"
  },
  "language_info": {
   "codemirror_mode": {
    "name": "ipython",
    "version": 3
   },
   "file_extension": ".py",
   "mimetype": "text/x-python",
   "name": "python",
   "nbconvert_exporter": "python",
   "pygments_lexer": "ipython3",
   "version": "3.6.4"
  }
 },
 "nbformat": 4,
 "nbformat_minor": 1
}
